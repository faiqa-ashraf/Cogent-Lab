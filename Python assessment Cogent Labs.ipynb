{
 "cells": [
  {
   "cell_type": "code",
   "execution_count": null,
   "id": "d1a166dd",
   "metadata": {},
   "outputs": [],
   "source": [
    "!pip install selenium"
   ]
  },
  {
   "cell_type": "code",
   "execution_count": null,
   "id": "eb19e2be",
   "metadata": {},
   "outputs": [],
   "source": [
    "!pip install BeautifulSoup4"
   ]
  },
  {
   "cell_type": "code",
   "execution_count": null,
   "id": "9d3dae49",
   "metadata": {},
   "outputs": [],
   "source": [
    "from selenium import webdriver\n",
    "from bs4 import BeautifulSoup\n",
    "import pandas as pd"
   ]
  },
  {
   "cell_type": "code",
   "execution_count": null,
   "id": "4c8f7f7d",
   "metadata": {},
   "outputs": [],
   "source": [
    "driver = webdriver.Chrome(\"/usr/lib/chromium-browser/chromedriver\")"
   ]
  },
  {
   "cell_type": "code",
   "execution_count": null,
   "id": "db7b9bd4",
   "metadata": {},
   "outputs": [],
   "source": [
    "driver.get(\"https://www.pakwheels.com/used-cars/suzuki-alto-2021-for-sale-in-vehari-6816909#scroll_car_info\")"
   ]
  },
  {
   "cell_type": "code",
   "execution_count": null,
   "id": "4fc1b8f8",
   "metadata": {},
   "outputs": [],
   "source": [
    "import requests\n",
    "html_content1 = requests.get(\"https://www.pakwheels.com/used-cars\").text\n",
    "soup1=BeautifulSoup(html_content1,\"lxml\")\n",
    "print(soup1.prettify())"
   ]
  },
  {
   "cell_type": "code",
   "execution_count": null,
   "id": "f206e122",
   "metadata": {},
   "outputs": [],
   "source": [
    "for link in soup1.find_all(\"a\"):\n",
    "    print(\"href: {}\".format(link.get(\"href\")))"
   ]
  },
  {
   "cell_type": "code",
   "execution_count": null,
   "id": "7f6114b5",
   "metadata": {},
   "outputs": [],
   "source": [
    "a_few_urls=[\"/honda-insight-2019-for-sale-in-karachi-6780916\",\n",
    "\"/honda-insight-2019-for-sale-in-karachi-6780916\",\n",
    "\"/suzuki-swift-2017-for-sale-in-karachi-6659429\",\n",
    "\"/suzuki-swift-2017-for-sale-in-karachi-6659429\"\n",
    "\"/lexus-rx-series-2018-for-sale-in-karachi-6789389\"\n",
    "\"/lexus-rx-series-2018-for-sale-in-karachi-6789389\"\n",
    "\"/suzuki-cultus-2010-for-sale-in-karachi-6715715\"\n",
    "\"/suzuki-cultus-2010-for-sale-in-karachi-6715715\"\n",
    "\"/honda-civic-2017-for-sale-in-karachi-6814508\"\n",
    "\"/honda-civic-2017-for-sale-in-karachi-6814508\"\n",
    "\"/honda-br-v-2020-for-sale-in-karachi-6826237\"\n",
    "\"/honda-br-v-2020-for-sale-in-karachi-6826237\"\n",
    "\"/mg-hs-2021-for-sale-in-karachi-6651024\"]"
   ]
  },
  {
   "cell_type": "code",
   "execution_count": null,
   "id": "4f146422",
   "metadata": {},
   "outputs": [],
   "source": [
    "import requests\n",
    "html_content = requests.get(\"https://www.pakwheels.com/used-cars/suzuki-alto-2021-for-sale-in-vehari-6816909#scroll_car_info\").text"
   ]
  },
  {
   "cell_type": "code",
   "execution_count": null,
   "id": "f6e5347a",
   "metadata": {},
   "outputs": [],
   "source": [
    "soup = BeautifulSoup(html_content, \"lxml\")\n",
    "print(soup.prettify())"
   ]
  },
  {
   "cell_type": "code",
   "execution_count": null,
   "id": "b427412c",
   "metadata": {},
   "outputs": [],
   "source": [
    "print(soup.title)"
   ]
  },
  {
   "cell_type": "code",
   "execution_count": null,
   "id": "0189ad29",
   "metadata": {},
   "outputs": [],
   "source": [
    "soup.title.text"
   ]
  },
  {
   "cell_type": "code",
   "execution_count": null,
   "id": "f5f34061",
   "metadata": {},
   "outputs": [],
   "source": [
    "for link in soup.find_all(\"a\"):\n",
    "    print(\"Inner Text: {}\".format(link.text))\n",
    "    print(\"Title: {}\".format(link.get(\"title\")))\n",
    "    print(\"href: {}\".format(link.get(\"href\")))"
   ]
  },
  {
   "cell_type": "code",
   "execution_count": null,
   "id": "8ae18d54",
   "metadata": {},
   "outputs": [],
   "source": [
    "table = soup.find(\"table\", attrs={\"class\": \"table table-bordered text-center table-engine-detail fs16\"})\n",
    "info_table_data = table.tbody.find_all(\"tr\")  # contains 2 rows\n",
    "info_table_data"
   ]
  },
  {
   "cell_type": "code",
   "execution_count": null,
   "id": "c69a75ae",
   "metadata": {},
   "outputs": [],
   "source": [
    "info_table_data[0].find_all(\"td\")"
   ]
  },
  {
   "cell_type": "code",
   "execution_count": null,
   "id": "ad9a4f68",
   "metadata": {},
   "outputs": [],
   "source": [
    "year_mileage_type_trans=[]\n",
    "for td in info_table_data[0].find_all(\"td\"):\n",
    "    # remove any newlines and extra spaces from left and right\n",
    "    year_mileage_type_trans.append(td.text.replace('\\n', ' ').strip())\n",
    "\n",
    "print(year_mileage_type_trans)"
   ]
  },
  {
   "cell_type": "code",
   "execution_count": null,
   "id": "d07a5283",
   "metadata": {},
   "outputs": [],
   "source": [
    "year=[]\n",
    "mileage=[]\n",
    "fuel_type=[]\n",
    "transmission=[]"
   ]
  },
  {
   "cell_type": "code",
   "execution_count": null,
   "id": "dfcbe5a2",
   "metadata": {},
   "outputs": [],
   "source": [
    "year.append(year_mileage_type_trans[0])\n",
    "mileage.append(year_mileage_type_trans[1])\n",
    "fuel_type.append(year_mileage_type_trans[2])\n",
    "transmission.append(year_mileage_type_trans[3])"
   ]
  },
  {
   "cell_type": "code",
   "execution_count": null,
   "id": "9acda5aa",
   "metadata": {},
   "outputs": [],
   "source": [
    "otherData = soup.find(\"ul\", attrs={\"class\": \"list-unstyled ul-featured clearfix\"})\n",
    "otherData"
   ]
  },
  {
   "cell_type": "code",
   "execution_count": null,
   "id": "00b8c917",
   "metadata": {},
   "outputs": [],
   "source": [
    "city, color, assembly, engineCapacity = '','','',''"
   ]
  },
  {
   "cell_type": "code",
   "execution_count": null,
   "id": "8b4f8313",
   "metadata": {},
   "outputs": [],
   "source": [
    "otherData.text"
   ]
  },
  {
   "cell_type": "code",
   "execution_count": null,
   "id": "762e9a79",
   "metadata": {},
   "outputs": [],
   "source": [
    "otherDataArray=[]\n",
    "otherDataArray.append(otherData.text.replace('\\n', ' ').strip())"
   ]
  },
  {
   "cell_type": "code",
   "execution_count": null,
   "id": "f79e24b8",
   "metadata": {},
   "outputs": [],
   "source": [
    "otherDataArray"
   ]
  },
  {
   "cell_type": "code",
   "execution_count": null,
   "id": "01a42233",
   "metadata": {},
   "outputs": [],
   "source": [
    "city=otherDataArray[0][14:24]\n",
    "city"
   ]
  },
  {
   "cell_type": "code",
   "execution_count": null,
   "id": "a0d96633",
   "metadata": {},
   "outputs": [],
   "source": [
    "color=otherDataArray[0][31:37]\n",
    "color"
   ]
  },
  {
   "cell_type": "code",
   "execution_count": null,
   "id": "ed973871",
   "metadata": {},
   "outputs": [],
   "source": [
    "assembly=otherDataArray[0][47:52]\n",
    "assembly"
   ]
  },
  {
   "cell_type": "code",
   "execution_count": null,
   "id": "96551b06",
   "metadata": {},
   "outputs": [],
   "source": [
    "engineCapacity=otherDataArray[0][69:75]\n",
    "engineCapacity"
   ]
  },
  {
   "cell_type": "code",
   "execution_count": null,
   "id": "42cdb400",
   "metadata": {},
   "outputs": [],
   "source": [
    "#The data can be fetched dynamically, if we record actions using Selenium. Or, we extract the urls in the used cars and \n",
    "#see the pattern. Then the data will be stored in arrays, which will be then converted to dataframes and csv file. After that,\n",
    "#we can perform other actions of filtering and creating APIs"
   ]
  },
  {
   "cell_type": "code",
   "execution_count": null,
   "id": "580205fe",
   "metadata": {},
   "outputs": [],
   "source": []
  }
 ],
 "metadata": {
  "kernelspec": {
   "display_name": "Python 3",
   "language": "python",
   "name": "python3"
  },
  "language_info": {
   "codemirror_mode": {
    "name": "ipython",
    "version": 3
   },
   "file_extension": ".py",
   "mimetype": "text/x-python",
   "name": "python",
   "nbconvert_exporter": "python",
   "pygments_lexer": "ipython3",
   "version": "3.8.8"
  }
 },
 "nbformat": 4,
 "nbformat_minor": 5
}
